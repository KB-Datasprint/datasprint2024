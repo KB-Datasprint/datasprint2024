{
 "cells": [
  {
   "cell_type": "markdown",
   "id": "43295cc2-624f-46b8-a747-08363d29ed50",
   "metadata": {},
   "source": [
    "This notebook is used to combine csv files into a larger csv file, because it is also easier to work with the data when it is aggregated into one file."
   ]
  },
  {
   "cell_type": "code",
   "execution_count": 6,
   "id": "901a8e85-0678-4cf5-b9a9-c56b346d67ff",
   "metadata": {},
   "outputs": [],
   "source": [
    "import os\n",
    "import pandas as pd\n",
    "from pathlib import Path"
   ]
  },
  {
   "cell_type": "code",
   "execution_count": 7,
   "id": "31ab9f28-0464-43c0-a396-9e779ee3932e",
   "metadata": {},
   "outputs": [],
   "source": [
    "os.chdir(r'.\\kb_csv_files') # move to folder with the many csv files"
   ]
  },
  {
   "cell_type": "code",
   "execution_count": 8,
   "id": "be075826-1f4e-47f5-a2cf-67e60f816886",
   "metadata": {},
   "outputs": [],
   "source": [
    "# collect all csv filtered in Danish language\n",
    "files = os.listdir()\n",
    "files_dan = [i for i in files if 'KB_metadata_dan_' in i]\n",
    "\n",
    "list_of_dan_df = [pd.read_csv(i) for i in files_dan]\n",
    "dan_df = pd.concat(list_of_dan_df).reset_index(drop=True)\n",
    "\n",
    "#############################\n",
    "\n",
    "# collect all csv not filtered in language danish\n",
    "other_files = [i for i in files if 'KB_metadata_dan_' not in i]\n",
    "\n",
    "list_of_other_dfs = [pd.read_csv(i) for i in other_files]\n",
    "other_df = pd.concat(list_of_other_dfs).reset_index(drop=True)\n",
    "\n",
    "\n",
    "# Save dataset\n",
    "# move to the folder where you save the large datasets\n",
    "os.chdir('..')\n",
    "os.chdir('kb_metadata_set')\n",
    "\n",
    "# Save\n",
    "dan_df.to_csv('kb_metadata_set_dan_raw.csv', index=False)\n",
    "other_df.to_csv('kb_metadata_set_all_raw.csv', index=False)"
   ]
  },
  {
   "cell_type": "code",
   "execution_count": null,
   "id": "47febe7a-a53a-45ff-8320-65a428f7ed4a",
   "metadata": {},
   "outputs": [],
   "source": []
  }
 ],
 "metadata": {
  "kernelspec": {
   "display_name": "Python 3 (ipykernel)",
   "language": "python",
   "name": "python3"
  },
  "language_info": {
   "codemirror_mode": {
    "name": "ipython",
    "version": 3
   },
   "file_extension": ".py",
   "mimetype": "text/x-python",
   "name": "python",
   "nbconvert_exporter": "python",
   "pygments_lexer": "ipython3",
   "version": "3.12.4"
  }
 },
 "nbformat": 4,
 "nbformat_minor": 5
}
