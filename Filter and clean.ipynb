{
 "cells": [
  {
   "cell_type": "markdown",
   "id": "7308ac7c-b0a1-40f0-9e6d-2441a657d24b",
   "metadata": {},
   "source": [
    "This notebook is an example on how to filter and clean the data."
   ]
  },
  {
   "cell_type": "code",
   "execution_count": 1,
   "id": "d305e218-735c-48c8-9dee-8076e3fe115c",
   "metadata": {},
   "outputs": [],
   "source": [
    "import pandas as pd\n",
    "import os"
   ]
  },
  {
   "cell_type": "code",
   "execution_count": 2,
   "id": "19b22bdd-c2e2-44d6-990f-05b5bddb7179",
   "metadata": {},
   "outputs": [],
   "source": [
    "os.chdir(r'.\\kb_metadata_set')"
   ]
  },
  {
   "cell_type": "markdown",
   "id": "c4b4a51f-c64e-4fd6-8c25-295ecb346ebf",
   "metadata": {},
   "source": [
    "### Filter rows using str.contains"
   ]
  },
  {
   "cell_type": "code",
   "execution_count": 7,
   "id": "db6290e3-0497-4365-8e52-0594f34804b8",
   "metadata": {},
   "outputs": [],
   "source": [
    "# Load data\n",
    "dan_df = pd.read_csv('kb_metadata_set_dan_raw.csv')\n",
    "\n",
    "\n",
    "# filter column \"sub 3\" on value \"code o\"\n",
    "dan_df_filtered = dan_df[dan_df['sub_3'].str.contains('code o', na=False)].reset_index(drop=True)\n",
    "\n",
    "\n",
    "# clear the column\n",
    "L = list(dan_df_filtered['sub_3'])\n",
    "new_l = [' '.join(i.split(',')[1:]).replace(\")\",'')\\\n",
    "         .replace(\"'\",'')\\\n",
    "         .replace(\" -\",',-')\\\n",
    "         .replace('The special pressure collection', '').strip() for i in L]\n",
    "\n",
    "# Store cleaned data in a new column; sub_3_st\n",
    "dan_df_filtered['sub_3_st'] = new_l"
   ]
  },
  {
   "cell_type": "markdown",
   "id": "d96b775c-db17-43cd-9528-84df4d603a5a",
   "metadata": {},
   "source": [
    "### Extract years using str.extract and regex, and saving values in a new column; 'year_st'"
   ]
  },
  {
   "cell_type": "code",
   "execution_count": 10,
   "id": "ad376c3c-e8d8-4a7d-b258-c6cb448699c7",
   "metadata": {},
   "outputs": [],
   "source": [
    "dan_df_filtered['year_st'] = dan_df_filtered['year'].str.extract(r'(\\d{4})')"
   ]
  },
  {
   "cell_type": "markdown",
   "id": "f7dbe977-67c0-4182-ab0b-94a736c6263d",
   "metadata": {},
   "source": [
    "### Clean up author values\n",
    "There are two \"author\" columns. I collect the values ​​in a column and clean the text strings."
   ]
  },
  {
   "cell_type": "code",
   "execution_count": 11,
   "id": "9e70589c-59f6-4ca5-a4c1-30cb0e0dd303",
   "metadata": {},
   "outputs": [],
   "source": [
    "# Collect the values ​​in two author columns in pairs\n",
    "dan_df_filtered['author_st'] = list(zip(dan_df_filtered['author1'], dan_df_filtered['author2']))\n",
    "\n",
    "def clean_author_1_2(text):\n",
    " text = str(text)\n",
    " text_replace = text.replace('(', '').replace(')', '').replace('nan,', '').replace(', nan', '').replace(\"' \", '')\n",
    " text_strip = text_replace.strip()\n",
    " return text_strip\n",
    "\n",
    "dan_df_filtered['author_st'] = dan_df_filtered['author_st'].apply(lambda x : clean_author_1_2(x))"
   ]
  },
  {
   "cell_type": "code",
   "execution_count": 12,
   "id": "3b97f748-1206-4777-9974-5a74970baeb5",
   "metadata": {},
   "outputs": [],
   "source": [
    "os.chdir('..')\n",
    "os.chdir('kb_filtered_datasets')"
   ]
  },
  {
   "cell_type": "markdown",
   "id": "3cec5eb4-03af-4295-95af-11904b30591f",
   "metadata": {},
   "source": [
    "### Select a few of the columns for a new dataframe\n",
    "\n",
    "You can reorder and select the columns that you wish."
   ]
  },
  {
   "cell_type": "code",
   "execution_count": 13,
   "id": "985bc18e-cb71-4145-a372-f5802926b217",
   "metadata": {},
   "outputs": [],
   "source": [
    "df_filtered = dan_df_filtered[['author_st', 'title', 'year_st', 'publisher', 'place', 'sub_4', 'sub_3_st', 'misc_comments']]"
   ]
  },
  {
   "cell_type": "code",
   "execution_count": 14,
   "id": "2a613955-45cb-4ab0-ba63-06d827f968bd",
   "metadata": {},
   "outputs": [],
   "source": [
    "# save the clean and filtered data\n",
    "df_filtered.to_csv('kb_metadata_dan_filtered.csv', index=False)"
   ]
  },
  {
   "cell_type": "code",
   "execution_count": null,
   "id": "114340ad-1164-4568-964d-9324ef00c62d",
   "metadata": {},
   "outputs": [],
   "source": []
  }
 ],
 "metadata": {
  "kernelspec": {
   "display_name": "Python 3 (ipykernel)",
   "language": "python",
   "name": "python3"
  },
  "language_info": {
   "codemirror_mode": {
    "name": "ipython",
    "version": 3
   },
   "file_extension": ".py",
   "mimetype": "text/x-python",
   "name": "python",
   "nbconvert_exporter": "python",
   "pygments_lexer": "ipython3",
   "version": "3.12.4"
  }
 },
 "nbformat": 4,
 "nbformat_minor": 5
}
