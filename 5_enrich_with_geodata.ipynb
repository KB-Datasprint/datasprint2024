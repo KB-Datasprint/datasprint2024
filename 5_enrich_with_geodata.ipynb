{
 "cells": [
  {
   "cell_type": "code",
   "execution_count": 39,
   "id": "a5425ca5-7bf7-4ec9-ab27-3e7e54a98259",
   "metadata": {},
   "outputs": [],
   "source": [
    "import pandas as pd"
   ]
  },
  {
   "cell_type": "code",
   "execution_count": 40,
   "id": "441e2855-5485-4a96-b86b-459398bd83f2",
   "metadata": {},
   "outputs": [],
   "source": [
    "df = pd.read_csv('kb_metadata_dan_filtered_openrefine_v_1.csv')"
   ]
  },
  {
   "cell_type": "code",
   "execution_count": 41,
   "id": "9a915f9c-c88c-4464-a81d-31bb232939c5",
   "metadata": {},
   "outputs": [],
   "source": [
    "subset = df[['year_st', 'place_st']]"
   ]
  },
  {
   "cell_type": "code",
   "execution_count": 42,
   "id": "6f3e3c0b-b90a-45e3-be96-6eece2fc3399",
   "metadata": {},
   "outputs": [],
   "source": [
    "# Remove rows with any NaN values\n",
    "subset = subset.dropna()"
   ]
  },
  {
   "cell_type": "code",
   "execution_count": 43,
   "id": "4f9a75ff-7937-46b8-aca1-a733c798bc49",
   "metadata": {},
   "outputs": [],
   "source": [
    "# Notice that there are data errors in the 'year_st' column, so we remove years before 1600 and after 1900.\n",
    "\n",
    "subset = subset.query('year_st >=1600 and year_st <=1900 ').reset_index(drop=True)"
   ]
  },
  {
   "cell_type": "code",
   "execution_count": 44,
   "id": "ddfff60d-a852-47c8-9f76-37ae1fcd453d",
   "metadata": {},
   "outputs": [],
   "source": [
    "# Sort the dataset based on the 'year_st' column so that lowest value is at the top\n",
    "subset = subset.sort_values(by='year_st').reset_index(drop=True)"
   ]
  },
  {
   "cell_type": "code",
   "execution_count": 45,
   "id": "17290bab-203e-4aa1-a1af-176ac3a4fffd",
   "metadata": {},
   "outputs": [],
   "source": [
    "# Extract the 'place' column and convert it to a set\n",
    "unique_places = list(set(df['place_st']))"
   ]
  },
  {
   "cell_type": "code",
   "execution_count": 36,
   "id": "bb2eef99-36b2-441a-8234-7937ed2587ec",
   "metadata": {},
   "outputs": [],
   "source": [
    "#! pip install geopy"
   ]
  },
  {
   "cell_type": "code",
   "execution_count": 56,
   "id": "b234cd80-894d-428d-b7a8-0f1b29dab734",
   "metadata": {},
   "outputs": [
    {
     "name": "stdout",
     "output_type": "stream",
     "text": [
      "             place_st   latitude   longitude\n",
      "0           Wiesbaden  50.082038    8.241656\n",
      "1    Nykøbing Jylland        NaN         NaN\n",
      "2           Stralsund  54.309631   13.082085\n",
      "3               Tokio  35.682194  139.762221\n",
      "4         Blair Nebr.  41.544438  -96.125015\n",
      "..                ...        ...         ...\n",
      "408   Sevel-Hedegaard        NaN         NaN\n",
      "409     Frederiksstad  54.376000    9.089772\n",
      "410         Skovlunde  55.723064   12.402713\n",
      "411           Herning  56.137976    8.974662\n",
      "412         Bruxelles  50.855002    4.351233\n",
      "\n",
      "[413 rows x 3 columns]\n"
     ]
    }
   ],
   "source": [
    "import pandas as pd\n",
    "from geopy.geocoders import Nominatim\n",
    "from geopy.exc import GeocoderTimedOut\n",
    "\n",
    "# Extract the 'place' column and convert it to a set\n",
    "unique_places = list(set(subset['place_st']))\n",
    "\n",
    "# Extract the 'place' column and convert it to a set, removing any NaN or non-string values\n",
    "unique_places = list(set(subset['place_st'].dropna()))\n",
    "unique_places = [place for place in unique_places if isinstance(place, str)]\n",
    "\n",
    "# Initialize the Nominatim geocoder\n",
    "geolocator = Nominatim(user_agent=\"your_app_name\")\n",
    "\n",
    "def geocode_place(place_name):\n",
    "    try:\n",
    "        location = geolocator.geocode(place_name)\n",
    "        if location:\n",
    "            return (location.latitude, location.longitude)\n",
    "        else:\n",
    "            return (None, None)\n",
    "    except GeocoderTimedOut:\n",
    "        return (None, None)\n",
    "\n",
    "# Initialize an empty list to store the results\n",
    "geocoded_places = []\n",
    "for place_name in unique_places:\n",
    "    lat, lon = geocode_place(place_name)\n",
    "    geocoded_places.append([place_name, lat, lon])\n",
    "\n",
    "# Convert the list to a pandas DataFrame\n",
    "df_geocoded = pd.DataFrame(geocoded_places, columns=['place_st', 'latitude', 'longitude'])\n",
    "\n",
    "print(df_geocoded)"
   ]
  },
  {
   "cell_type": "code",
   "execution_count": 64,
   "id": "d8b25834-533f-4e28-8070-ae09d0cfcca6",
   "metadata": {},
   "outputs": [],
   "source": [
    "# Make a copy before continuering ( not really important ) \n",
    "df_geo = df_geocoded.copy()\n",
    "\n",
    "# Remove rows with any NaN values - not all string values have been recognized and geocoded \n",
    "df_geo = df_geo.dropna()\n",
    "\n",
    "# Perform the join of the subset data frame and the georeferenced dataframe on the 'place_name' column\n",
    "subset_geocoded = pd.merge(subset, df_geo, on='place_st', how='inner')\n",
    "\n",
    "# Storing it as a csv file as well\n",
    "output_file = 'geocoded_places.csv'\n",
    "subset_geocoded.to_csv(output_file, index=False)\n"
   ]
  },
  {
   "cell_type": "code",
   "execution_count": null,
   "id": "9e2d5121-8732-4cdd-a5c0-330f5d5e92ff",
   "metadata": {},
   "outputs": [],
   "source": []
  }
 ],
 "metadata": {
  "kernelspec": {
   "display_name": "Python 3 (ipykernel)",
   "language": "python",
   "name": "python3"
  },
  "language_info": {
   "codemirror_mode": {
    "name": "ipython",
    "version": 3
   },
   "file_extension": ".py",
   "mimetype": "text/x-python",
   "name": "python",
   "nbconvert_exporter": "python",
   "pygments_lexer": "ipython3",
   "version": "3.12.4"
  }
 },
 "nbformat": 4,
 "nbformat_minor": 5
}
